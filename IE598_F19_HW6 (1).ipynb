{
 "cells": [
  {
   "cell_type": "code",
   "execution_count": 91,
   "metadata": {},
   "outputs": [],
   "source": [
    "import pandas as pd\n",
    "data =pd.read_csv(\"/Users/mia/Downloads/ccdefault.csv\")"
   ]
  },
  {
   "cell_type": "code",
   "execution_count": 92,
   "metadata": {},
   "outputs": [],
   "source": [
    "from sklearn.preprocessing import LabelEncoder\n",
    "y = data.iloc[:,-1]\n",
    "X = data.iloc[:,1:-2]\n",
    "\n"
   ]
  },
  {
   "cell_type": "code",
   "execution_count": 93,
   "metadata": {},
   "outputs": [],
   "source": [
    "from sklearn.model_selection import train_test_split\n",
    "from sklearn.tree import DecisionTreeClassifier\n",
    "from sklearn.metrics import accuracy_score\n",
    "import numpy as np\n",
    "import timeit\n",
    "\n",
    "train_accuracy = []\n",
    "test_accuracy = []\n",
    "start = timeit.default_timer()\n",
    "#since we want to run for 10 different samples by changing random_state from 1 to 10.\n",
    "for k in range(10):\n",
    "    X_train, X_test, y_train, y_test = train_test_split(X,y,test_size = 0.1, random_state=k)\n",
    "    tree = DecisionTreeClassifier()\n",
    "    tree.fit(X_train,y_train)\n",
    "    pred_train = tree.predict(X_train)\n",
    "    train_accuracy.append(accuracy_score(y_train, pred_train))\n",
    "    pred_test = tree.predict(X_test)\n",
    "    test_accuracy.append(accuracy_score(y_test, pred_test))\n",
    "end = timeit.default_timer()\n",
    "\n",
    "    "
   ]
  },
  {
   "cell_type": "code",
   "execution_count": 94,
   "metadata": {},
   "outputs": [
    {
     "name": "stdout",
     "output_type": "stream",
     "text": [
      "5.35459241999979\n"
     ]
    },
    {
     "data": {
      "text/html": [
       "<div>\n",
       "<style scoped>\n",
       "    .dataframe tbody tr th:only-of-type {\n",
       "        vertical-align: middle;\n",
       "    }\n",
       "\n",
       "    .dataframe tbody tr th {\n",
       "        vertical-align: top;\n",
       "    }\n",
       "\n",
       "    .dataframe thead th {\n",
       "        text-align: right;\n",
       "    }\n",
       "</style>\n",
       "<table border=\"1\" class=\"dataframe\">\n",
       "  <thead>\n",
       "    <tr style=\"text-align: right;\">\n",
       "      <th></th>\n",
       "      <th>1</th>\n",
       "      <th>2</th>\n",
       "      <th>3</th>\n",
       "      <th>4</th>\n",
       "      <th>5</th>\n",
       "      <th>6</th>\n",
       "      <th>7</th>\n",
       "      <th>8</th>\n",
       "      <th>9</th>\n",
       "      <th>10</th>\n",
       "      <th>Mean</th>\n",
       "      <th>Standard Deviation</th>\n",
       "    </tr>\n",
       "  </thead>\n",
       "  <tbody>\n",
       "    <tr>\n",
       "      <th>Train</th>\n",
       "      <td>0.99937</td>\n",
       "      <td>0.999296</td>\n",
       "      <td>0.999333</td>\n",
       "      <td>0.999333</td>\n",
       "      <td>0.999296</td>\n",
       "      <td>0.999333</td>\n",
       "      <td>0.99937</td>\n",
       "      <td>0.999296</td>\n",
       "      <td>0.999222</td>\n",
       "      <td>0.999481</td>\n",
       "      <td>0.99933</td>\n",
       "      <td>0.00006</td>\n",
       "    </tr>\n",
       "    <tr>\n",
       "      <th>Test</th>\n",
       "      <td>0.72600</td>\n",
       "      <td>0.728000</td>\n",
       "      <td>0.733000</td>\n",
       "      <td>0.730000</td>\n",
       "      <td>0.714333</td>\n",
       "      <td>0.727667</td>\n",
       "      <td>0.71000</td>\n",
       "      <td>0.721000</td>\n",
       "      <td>0.721667</td>\n",
       "      <td>0.725000</td>\n",
       "      <td>0.72367</td>\n",
       "      <td>0.00674</td>\n",
       "    </tr>\n",
       "  </tbody>\n",
       "</table>\n",
       "</div>"
      ],
      "text/plain": [
       "             1         2         3         4         5         6        7  \\\n",
       "Train  0.99937  0.999296  0.999333  0.999333  0.999296  0.999333  0.99937   \n",
       "Test   0.72600  0.728000  0.733000  0.730000  0.714333  0.727667  0.71000   \n",
       "\n",
       "              8         9        10     Mean  Standard Deviation  \n",
       "Train  0.999296  0.999222  0.999481  0.99933             0.00006  \n",
       "Test   0.721000  0.721667  0.725000  0.72367             0.00674  "
      ]
     },
     "execution_count": 94,
     "metadata": {},
     "output_type": "execute_result"
    }
   ],
   "source": [
    "# create the table including mean and standard deviation\n",
    "test_ac = list(test_accuracy)\n",
    "test_ac.append(round(np.mean(test_accuracy),5))\n",
    "test_ac.append(round(np.std(test_accuracy),5))\n",
    "train_ac = list(train_accuracy)\n",
    "train_ac.append(round(np.mean(train_accuracy),5))\n",
    "train_ac.append(round(np.std(train_accuracy),5))\n",
    "table = pd.DataFrame(np.array([train_rs,test_rs]),columns = ['1','2','3','4','5','6','7','8','9','10','Mean','Standard Deviation'])\n",
    "table.rename(index={0:'Train',1:'Test'}, inplace=True)\n",
    "time = end-start\n",
    "print(time)\n",
    "table\n"
   ]
  },
  {
   "cell_type": "raw",
   "metadata": {},
   "source": [
    "##Cross-Validation"
   ]
  },
  {
   "cell_type": "code",
   "execution_count": 95,
   "metadata": {},
   "outputs": [
    {
     "name": "stdout",
     "output_type": "stream",
     "text": [
      "2.857094885999686\n"
     ]
    }
   ],
   "source": [
    "from sklearn.model_selection import cross_val_score\n",
    "start1 = timeit.default_timer()\n",
    "tree = DecisionTreeClassifier()\n",
    "tree.fit(X_train, y_train)\n",
    "y_pred_test=tree.predict(X_test)\n",
    "y_pred_train=tree.predict(X_train)\n",
    "train_acc = cross_val_score(tree,X=X_train,y=y_train,cv=10,n_jobs=-1)\n",
    "test_acc = cross_val_score(tree,X=X_test,y=y_test,cv=10,n_jobs=-1)\n",
    "stop1 = timeit.default_timer()\n",
    "time1 = stop1 - start1\n",
    "print(time1)"
   ]
  },
  {
   "cell_type": "code",
   "execution_count": 96,
   "metadata": {},
   "outputs": [],
   "source": [
    "## create the table\n",
    "output_train_acc = list(train_acc)\n",
    "output_train_acc.append(round(np.mean(train_acc),4))\n",
    "output_train_acc.append(round(np.std(train_acc),4))\n",
    "output_test_acc =list(test_acc)\n",
    "output_test_acc.append(round(np.mean(test_acc),4))\n",
    "output_test_acc.append(round(np.std(test_acc),4))\n"
   ]
  },
  {
   "cell_type": "code",
   "execution_count": 97,
   "metadata": {},
   "outputs": [
    {
     "data": {
      "text/html": [
       "<div>\n",
       "<style scoped>\n",
       "    .dataframe tbody tr th:only-of-type {\n",
       "        vertical-align: middle;\n",
       "    }\n",
       "\n",
       "    .dataframe tbody tr th {\n",
       "        vertical-align: top;\n",
       "    }\n",
       "\n",
       "    .dataframe thead th {\n",
       "        text-align: right;\n",
       "    }\n",
       "</style>\n",
       "<table border=\"1\" class=\"dataframe\">\n",
       "  <thead>\n",
       "    <tr style=\"text-align: right;\">\n",
       "      <th></th>\n",
       "      <th>1</th>\n",
       "      <th>2</th>\n",
       "      <th>3</th>\n",
       "      <th>4</th>\n",
       "      <th>5</th>\n",
       "      <th>6</th>\n",
       "      <th>7</th>\n",
       "      <th>8</th>\n",
       "      <th>9</th>\n",
       "      <th>10</th>\n",
       "      <th>Mean</th>\n",
       "      <th>Standard Deviation</th>\n",
       "    </tr>\n",
       "  </thead>\n",
       "  <tbody>\n",
       "    <tr>\n",
       "      <th>Train</th>\n",
       "      <td>0.724546</td>\n",
       "      <td>0.718252</td>\n",
       "      <td>0.714815</td>\n",
       "      <td>0.722593</td>\n",
       "      <td>0.727778</td>\n",
       "      <td>0.728889</td>\n",
       "      <td>0.724815</td>\n",
       "      <td>0.73</td>\n",
       "      <td>0.734717</td>\n",
       "      <td>0.724342</td>\n",
       "      <td>0.7251</td>\n",
       "      <td>0.0055</td>\n",
       "    </tr>\n",
       "    <tr>\n",
       "      <th>Test</th>\n",
       "      <td>0.674419</td>\n",
       "      <td>0.710963</td>\n",
       "      <td>0.710000</td>\n",
       "      <td>0.693333</td>\n",
       "      <td>0.726667</td>\n",
       "      <td>0.740000</td>\n",
       "      <td>0.713333</td>\n",
       "      <td>0.68</td>\n",
       "      <td>0.698997</td>\n",
       "      <td>0.719064</td>\n",
       "      <td>0.7067</td>\n",
       "      <td>0.0193</td>\n",
       "    </tr>\n",
       "  </tbody>\n",
       "</table>\n",
       "</div>"
      ],
      "text/plain": [
       "              1         2         3         4         5         6         7  \\\n",
       "Train  0.724546  0.718252  0.714815  0.722593  0.727778  0.728889  0.724815   \n",
       "Test   0.674419  0.710963  0.710000  0.693333  0.726667  0.740000  0.713333   \n",
       "\n",
       "          8         9        10    Mean  Standard Deviation  \n",
       "Train  0.73  0.734717  0.724342  0.7251              0.0055  \n",
       "Test   0.68  0.698997  0.719064  0.7067              0.0193  "
      ]
     },
     "execution_count": 97,
     "metadata": {},
     "output_type": "execute_result"
    }
   ],
   "source": [
    "table1 = pd.DataFrame(np.array([output_train_acc,output_test_acc]),columns = ['1','2','3','4','5','6','7','8','9','10','Mean','Standard Deviation'])\n",
    "table1.rename(index={0:'Train',1:'Test'}, inplace=True)\n",
    "table1\n",
    "\n"
   ]
  },
  {
   "cell_type": "code",
   "execution_count": 98,
   "metadata": {},
   "outputs": [
    {
     "name": "stdout",
     "output_type": "stream",
     "text": [
      "My name is Wanbin cao\n",
      "My NetID is wcao11\n",
      "I hereby certify that I have read the University policy on Academic Integrity and that I am not in violation.\n"
     ]
    }
   ],
   "source": [
    "print(\"My name is Wanbin cao\")\n",
    "print(\"My NetID is wcao11\")\n",
    "print(\"I hereby certify that I have read the University policy on Academic Integrity and that I am not in violation.\")"
   ]
  },
  {
   "cell_type": "code",
   "execution_count": null,
   "metadata": {},
   "outputs": [],
   "source": []
  }
 ],
 "metadata": {
  "kernelspec": {
   "display_name": "Python 3",
   "language": "python",
   "name": "python3"
  },
  "language_info": {
   "codemirror_mode": {
    "name": "ipython",
    "version": 3
   },
   "file_extension": ".py",
   "mimetype": "text/x-python",
   "name": "python",
   "nbconvert_exporter": "python",
   "pygments_lexer": "ipython3",
   "version": "3.7.3"
  }
 },
 "nbformat": 4,
 "nbformat_minor": 2
}
